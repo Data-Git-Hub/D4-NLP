{
 "cells": [
  {
   "cell_type": "markdown",
   "id": "7a0d1656",
   "metadata": {},
   "source": [
    "# Web Mining and Applied NLP (CSIS 44-620)\n",
    "\n",
    "## D4: Natural Language Processing (NLP) & Engage\n",
    "\n",
    "### \n",
    "Author: Data-Git-Hub <br>\n",
    "GitHub Project Repository Link: https://github.com/Data-Git-Hub/D4-NLP <br>\n",
    "7 July 2025 <br>\n",
    "\n",
    "### Introduction\n",
    "In this project, I explore the fundamentals of Natural Language Processing (NLP) with a focus on sentiment analysis using Python libraries such as `spaCy`, `spacytextblob`, and `requests`. Sentiment analysis is a powerful technique used to extract subjective information from text, helping organizations interpret public opinion, customer satisfaction, and emotional tone at scale. The assignment involves setting up a clean Python environment, ensuring all dependencies are correctly installed, and verifying the ability to load and apply NLP tools. This foundational work prepares the environment for deeper text analysis tasks in future modules and introduces essential skills in handling real-world, language-based data in Python. <br>\n",
    "\n",
    "### Task\n",
    "The task in this assignment involves setting up a Python development environment that supports natural language processing and sentiment analysis using third-party libraries. I begin by creating and activating a virtual environment, then installing the required packages: `requests`, `spacy`, and `spacytextblob`. After confirming the setup, I verify that the environment supports successful imports of these libraries alongside built-in modules like `json` and `pickle`. This setup is validated in a Jupyter Notebook by running a code cell that confirms all necessary tools are installed and operational. Completing this step ensures my environment is ready for applying NLP techniques such as extracting sentiment from text, and it prepares me for the more advanced analysis tasks that follow in later modules. <br>"
   ]
  },
  {
   "cell_type": "code",
   "execution_count": null,
   "id": "6b48ec51",
   "metadata": {
    "vscode": {
     "languageId": "plaintext"
    }
   },
   "outputs": [],
   "source": [
    "# Create and activate a Python virtual environment. \n",
    "# Before starting the project, try all these imports FIRST\n",
    "# Address any errors you get running this code cell \n",
    "# by installing the necessary packages into your active Python environment.\n",
    "# Try to resolve issues using your materials and the web.\n",
    "# If that doesn't work, ask for help in the discussion forums.\n",
    "# You can't complete the exercises until you import these - start early! \n",
    "# We also import json and pickle (included in the Python Standard Library).\n",
    "\n",
    "import json\n",
    "import pickle\n",
    "\n",
    "import requests\n",
    "import spacy\n",
    "from spacytextblob.spacytextblob import SpacyTextBlob\n",
    "\n",
    "print('All prereqs installed.')\n",
    "!pip list"
   ]
  }
 ],
 "metadata": {
  "language_info": {
   "name": "python"
  }
 },
 "nbformat": 4,
 "nbformat_minor": 5
}
